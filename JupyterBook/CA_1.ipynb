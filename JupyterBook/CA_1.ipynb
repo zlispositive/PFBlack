{
 "cells": [
  {
   "cell_type": "code",
   "execution_count": 1,
   "metadata": {
    "scrolled": true
   },
   "outputs": [
    {
     "name": "stdout",
     "output_type": "stream",
     "text": [
      "3.6.2 |Continuum Analytics, Inc.| (default, Jul 20 2017, 13:14:59) \n",
      "[GCC 4.2.1 Compatible Apple LLVM 6.0 (clang-600.0.57)]\n"
     ]
    }
   ],
   "source": [
    "import sys\n",
    "print(sys.version)"
   ]
  },
  {
   "cell_type": "code",
   "execution_count": 7,
   "metadata": {},
   "outputs": [
    {
     "data": {
      "text/html": [
       "<script>requirejs.config({paths: { 'plotly': ['https://cdn.plot.ly/plotly-latest.min']},});if(!window.Plotly) {{require(['plotly'],function(plotly) {window.Plotly=plotly;});}}</script>"
      ],
      "text/vnd.plotly.v1+html": [
       "<script>requirejs.config({paths: { 'plotly': ['https://cdn.plot.ly/plotly-latest.min']},});if(!window.Plotly) {{require(['plotly'],function(plotly) {window.Plotly=plotly;});}}</script>"
      ]
     },
     "metadata": {},
     "output_type": "display_data"
    },
    {
     "name": "stdout",
     "output_type": "stream",
     "text": [
      "Downloading BCHARTS/KRAKENUSD from Quandl\n",
      "Cached BCHARTS/KRAKENUSD at BCHARTS-KRAKENUSD.pkl\n",
      "                 Open       High        Low      Close  Volume (BTC)  \\\n",
      "Date                                                                   \n",
      "2014-01-07  874.67040  892.06753  810.00000  810.00000     15.622378   \n",
      "2014-01-08  810.00000  899.84281  788.00000  824.98287     19.182756   \n",
      "2014-01-09  825.56345  870.00000  807.42084  841.86934      8.158335   \n",
      "2014-01-10  839.99000  857.34056  817.00000  857.33056      8.024510   \n",
      "2014-01-11  858.20000  918.05471  857.16554  899.84105     18.748285   \n",
      "\n",
      "            Volume (Currency)  Weighted Price  \n",
      "Date                                           \n",
      "2014-01-07       13151.472844      841.835522  \n",
      "2014-01-08       16097.329584      839.156269  \n",
      "2014-01-09        6784.249982      831.572913  \n",
      "2014-01-10        6780.220188      844.938794  \n",
      "2014-01-11       16698.566929      890.671709  \n"
     ]
    }
   ],
   "source": [
    "import os\n",
    "import numpy as np\n",
    "import pandas as pd\n",
    "import pickle \n",
    "import quandl\n",
    "from datetime import datetime \n",
    "\n",
    "import plotly.offline as py\n",
    "import plotly.graph_objs as go\n",
    "import plotly.figure_factory as ff\n",
    "\n",
    "py.init_notebook_mode(connected= True)\n",
    "\n",
    "def get_quandl_data(quandl_id):\n",
    "    '''Download and cache Quandl dataseries'''\n",
    "    cache_path = '{}.pkl'.format(quandl_id).replace('/','-')\n",
    "    try:\n",
    "        f = open(cache_path, 'rb')\n",
    "        df = pickle.load(f)   \n",
    "        print('Loaded {} from cache'.format(quandl_id))\n",
    "    except (OSError, IOError) as e:\n",
    "        print('Downloading {} from Quandl'.format(quandl_id))\n",
    "        df = quandl.get(quandl_id, returns=\"pandas\")\n",
    "        df.to_pickle(cache_path)\n",
    "        print('Cached {} at {}'.format(quandl_id, cache_path))\n",
    "    return df\n",
    "\n",
    "btc_usd_price_kraken = get_quandl_data('BCHARTS/KRAKENUSD')\n",
    "print(btc_usd_price_kraken.head())"
   ]
  },
  {
   "cell_type": "code",
   "execution_count": null,
   "metadata": {
    "collapsed": true
   },
   "outputs": [],
   "source": []
  },
  {
   "cell_type": "code",
   "execution_count": null,
   "metadata": {
    "collapsed": true
   },
   "outputs": [],
   "source": []
  }
 ],
 "metadata": {
  "kernelspec": {
   "display_name": "Python [conda env:crypto_analysis]",
   "language": "python",
   "name": "conda-env-crypto_analysis-py"
  },
  "language_info": {
   "codemirror_mode": {
    "name": "ipython",
    "version": 3
   },
   "file_extension": ".py",
   "mimetype": "text/x-python",
   "name": "python",
   "nbconvert_exporter": "python",
   "pygments_lexer": "ipython3",
   "version": "3.6.2"
  }
 },
 "nbformat": 4,
 "nbformat_minor": 2
}
